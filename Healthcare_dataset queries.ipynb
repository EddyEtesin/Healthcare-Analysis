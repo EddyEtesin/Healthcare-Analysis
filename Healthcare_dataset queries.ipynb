{
 "cells": [
  {
   "cell_type": "code",
   "execution_count": 9,
   "id": "297eec79-0fa4-421f-b3ae-7f6e24f1df6b",
   "metadata": {},
   "outputs": [],
   "source": [
    "import pandas as pd\n",
    "import numpy as np\n",
    "import matplotlib.pyplot as plt\n",
    "import seaborn as sns\n",
    "from datetime import datetime "
   ]
  },
  {
   "cell_type": "code",
   "execution_count": 10,
   "id": "f9400f13-bd27-460f-b460-b6da54e1b1d5",
   "metadata": {},
   "outputs": [],
   "source": [
    "df = pd.read_csv(r\"C:\\Users\\LENOVO\\Desktop\\BR\\healthcare_dataset.csv\")"
   ]
  },
  {
   "cell_type": "code",
   "execution_count": 11,
   "id": "f8205b9a-146e-4b73-afad-34f442c0f446",
   "metadata": {},
   "outputs": [
    {
     "data": {
      "text/html": [
       "<div>\n",
       "<style scoped>\n",
       "    .dataframe tbody tr th:only-of-type {\n",
       "        vertical-align: middle;\n",
       "    }\n",
       "\n",
       "    .dataframe tbody tr th {\n",
       "        vertical-align: top;\n",
       "    }\n",
       "\n",
       "    .dataframe thead th {\n",
       "        text-align: right;\n",
       "    }\n",
       "</style>\n",
       "<table border=\"1\" class=\"dataframe\">\n",
       "  <thead>\n",
       "    <tr style=\"text-align: right;\">\n",
       "      <th></th>\n",
       "      <th>Name</th>\n",
       "      <th>Age</th>\n",
       "      <th>Gender</th>\n",
       "      <th>Blood Type</th>\n",
       "      <th>Medical Condition</th>\n",
       "      <th>Date of Admission</th>\n",
       "      <th>Doctor</th>\n",
       "      <th>Hospital</th>\n",
       "      <th>Insurance Provider</th>\n",
       "      <th>Billing Amount</th>\n",
       "      <th>Room Number</th>\n",
       "      <th>Admission Type</th>\n",
       "      <th>Discharge Date</th>\n",
       "      <th>Medication</th>\n",
       "      <th>Test Results</th>\n",
       "    </tr>\n",
       "  </thead>\n",
       "  <tbody>\n",
       "    <tr>\n",
       "      <th>0</th>\n",
       "      <td>Bobby JacksOn</td>\n",
       "      <td>30</td>\n",
       "      <td>Male</td>\n",
       "      <td>B-</td>\n",
       "      <td>Cancer</td>\n",
       "      <td>1/31/2024</td>\n",
       "      <td>Matthew Smith</td>\n",
       "      <td>Sons and Miller</td>\n",
       "      <td>Blue Cross</td>\n",
       "      <td>18856.28131</td>\n",
       "      <td>328</td>\n",
       "      <td>Urgent</td>\n",
       "      <td>2/2/2024</td>\n",
       "      <td>Paracetamol</td>\n",
       "      <td>Normal</td>\n",
       "    </tr>\n",
       "    <tr>\n",
       "      <th>1</th>\n",
       "      <td>LesLie TErRy</td>\n",
       "      <td>62</td>\n",
       "      <td>Male</td>\n",
       "      <td>A+</td>\n",
       "      <td>Obesity</td>\n",
       "      <td>8/20/2019</td>\n",
       "      <td>Samantha Davies</td>\n",
       "      <td>Kim Inc</td>\n",
       "      <td>Medicare</td>\n",
       "      <td>33643.32729</td>\n",
       "      <td>265</td>\n",
       "      <td>Emergency</td>\n",
       "      <td>8/26/2019</td>\n",
       "      <td>Ibuprofen</td>\n",
       "      <td>Inconclusive</td>\n",
       "    </tr>\n",
       "    <tr>\n",
       "      <th>2</th>\n",
       "      <td>DaNnY sMitH</td>\n",
       "      <td>76</td>\n",
       "      <td>Female</td>\n",
       "      <td>A-</td>\n",
       "      <td>Obesity</td>\n",
       "      <td>9/22/2022</td>\n",
       "      <td>Tiffany Mitchell</td>\n",
       "      <td>Cook PLC</td>\n",
       "      <td>Aetna</td>\n",
       "      <td>27955.09608</td>\n",
       "      <td>205</td>\n",
       "      <td>Emergency</td>\n",
       "      <td>10/7/2022</td>\n",
       "      <td>Aspirin</td>\n",
       "      <td>Normal</td>\n",
       "    </tr>\n",
       "    <tr>\n",
       "      <th>3</th>\n",
       "      <td>andrEw waTtS</td>\n",
       "      <td>28</td>\n",
       "      <td>Female</td>\n",
       "      <td>O+</td>\n",
       "      <td>Diabetes</td>\n",
       "      <td>11/18/2020</td>\n",
       "      <td>Kevin Wells</td>\n",
       "      <td>Hernandez Rogers and Vang,</td>\n",
       "      <td>Medicare</td>\n",
       "      <td>37909.78241</td>\n",
       "      <td>450</td>\n",
       "      <td>Elective</td>\n",
       "      <td>12/18/2020</td>\n",
       "      <td>Ibuprofen</td>\n",
       "      <td>Abnormal</td>\n",
       "    </tr>\n",
       "    <tr>\n",
       "      <th>4</th>\n",
       "      <td>adrIENNE bEll</td>\n",
       "      <td>43</td>\n",
       "      <td>Female</td>\n",
       "      <td>AB+</td>\n",
       "      <td>Cancer</td>\n",
       "      <td>9/19/2022</td>\n",
       "      <td>Kathleen Hanna</td>\n",
       "      <td>White-White</td>\n",
       "      <td>Aetna</td>\n",
       "      <td>14238.31781</td>\n",
       "      <td>458</td>\n",
       "      <td>Urgent</td>\n",
       "      <td>10/9/2022</td>\n",
       "      <td>Penicillin</td>\n",
       "      <td>Abnormal</td>\n",
       "    </tr>\n",
       "  </tbody>\n",
       "</table>\n",
       "</div>"
      ],
      "text/plain": [
       "            Name  Age  Gender Blood Type Medical Condition Date of Admission  \\\n",
       "0  Bobby JacksOn   30    Male         B-            Cancer         1/31/2024   \n",
       "1   LesLie TErRy   62    Male         A+           Obesity         8/20/2019   \n",
       "2    DaNnY sMitH   76  Female         A-           Obesity         9/22/2022   \n",
       "3   andrEw waTtS   28  Female         O+          Diabetes        11/18/2020   \n",
       "4  adrIENNE bEll   43  Female        AB+            Cancer         9/19/2022   \n",
       "\n",
       "             Doctor                    Hospital Insurance Provider  \\\n",
       "0     Matthew Smith             Sons and Miller         Blue Cross   \n",
       "1   Samantha Davies                     Kim Inc           Medicare   \n",
       "2  Tiffany Mitchell                    Cook PLC              Aetna   \n",
       "3       Kevin Wells  Hernandez Rogers and Vang,           Medicare   \n",
       "4    Kathleen Hanna                 White-White              Aetna   \n",
       "\n",
       "   Billing Amount  Room Number Admission Type Discharge Date   Medication  \\\n",
       "0     18856.28131          328         Urgent       2/2/2024  Paracetamol   \n",
       "1     33643.32729          265      Emergency      8/26/2019    Ibuprofen   \n",
       "2     27955.09608          205      Emergency      10/7/2022      Aspirin   \n",
       "3     37909.78241          450       Elective     12/18/2020    Ibuprofen   \n",
       "4     14238.31781          458         Urgent      10/9/2022   Penicillin   \n",
       "\n",
       "   Test Results  \n",
       "0        Normal  \n",
       "1  Inconclusive  \n",
       "2        Normal  \n",
       "3      Abnormal  \n",
       "4      Abnormal  "
      ]
     },
     "execution_count": 11,
     "metadata": {},
     "output_type": "execute_result"
    }
   ],
   "source": [
    "df.head()"
   ]
  },
  {
   "cell_type": "code",
   "execution_count": 15,
   "id": "57ec300a-c868-4c2e-b91a-2e2195ad2df8",
   "metadata": {},
   "outputs": [
    {
     "name": "stdout",
     "output_type": "stream",
     "text": [
      "<class 'pandas.core.frame.DataFrame'>\n",
      "RangeIndex: 55500 entries, 0 to 55499\n",
      "Data columns (total 15 columns):\n",
      " #   Column              Non-Null Count  Dtype  \n",
      "---  ------              --------------  -----  \n",
      " 0   Name                55500 non-null  object \n",
      " 1   Age                 55500 non-null  int64  \n",
      " 2   Gender              55500 non-null  object \n",
      " 3   Blood Type          55500 non-null  object \n",
      " 4   Medical Condition   55500 non-null  object \n",
      " 5   Date of Admission   55500 non-null  object \n",
      " 6   Doctor              55500 non-null  object \n",
      " 7   Hospital            55500 non-null  object \n",
      " 8   Insurance Provider  55500 non-null  object \n",
      " 9   Billing Amount      55500 non-null  float64\n",
      " 10  Room Number         55500 non-null  int64  \n",
      " 11  Admission Type      55500 non-null  object \n",
      " 12  Discharge Date      55500 non-null  object \n",
      " 13  Medication          55500 non-null  object \n",
      " 14  Test Results        55500 non-null  object \n",
      "dtypes: float64(1), int64(2), object(12)\n",
      "memory usage: 6.4+ MB\n"
     ]
    }
   ],
   "source": [
    "df.info()"
   ]
  },
  {
   "cell_type": "code",
   "execution_count": 17,
   "id": "6728d82f-d855-4ae1-892a-10f2d6651b80",
   "metadata": {},
   "outputs": [
    {
     "data": {
      "text/html": [
       "<div>\n",
       "<style scoped>\n",
       "    .dataframe tbody tr th:only-of-type {\n",
       "        vertical-align: middle;\n",
       "    }\n",
       "\n",
       "    .dataframe tbody tr th {\n",
       "        vertical-align: top;\n",
       "    }\n",
       "\n",
       "    .dataframe thead th {\n",
       "        text-align: right;\n",
       "    }\n",
       "</style>\n",
       "<table border=\"1\" class=\"dataframe\">\n",
       "  <thead>\n",
       "    <tr style=\"text-align: right;\">\n",
       "      <th></th>\n",
       "      <th>Age</th>\n",
       "      <th>Billing Amount</th>\n",
       "      <th>Room Number</th>\n",
       "    </tr>\n",
       "  </thead>\n",
       "  <tbody>\n",
       "    <tr>\n",
       "      <th>count</th>\n",
       "      <td>55500.000000</td>\n",
       "      <td>55500.000000</td>\n",
       "      <td>55500.000000</td>\n",
       "    </tr>\n",
       "    <tr>\n",
       "      <th>mean</th>\n",
       "      <td>51.539459</td>\n",
       "      <td>25539.316097</td>\n",
       "      <td>301.134829</td>\n",
       "    </tr>\n",
       "    <tr>\n",
       "      <th>std</th>\n",
       "      <td>19.602454</td>\n",
       "      <td>14211.454431</td>\n",
       "      <td>115.243069</td>\n",
       "    </tr>\n",
       "    <tr>\n",
       "      <th>min</th>\n",
       "      <td>13.000000</td>\n",
       "      <td>-2008.492140</td>\n",
       "      <td>101.000000</td>\n",
       "    </tr>\n",
       "    <tr>\n",
       "      <th>25%</th>\n",
       "      <td>35.000000</td>\n",
       "      <td>13241.224655</td>\n",
       "      <td>202.000000</td>\n",
       "    </tr>\n",
       "    <tr>\n",
       "      <th>50%</th>\n",
       "      <td>52.000000</td>\n",
       "      <td>25538.069380</td>\n",
       "      <td>302.000000</td>\n",
       "    </tr>\n",
       "    <tr>\n",
       "      <th>75%</th>\n",
       "      <td>68.000000</td>\n",
       "      <td>37820.508432</td>\n",
       "      <td>401.000000</td>\n",
       "    </tr>\n",
       "    <tr>\n",
       "      <th>max</th>\n",
       "      <td>89.000000</td>\n",
       "      <td>52764.276740</td>\n",
       "      <td>500.000000</td>\n",
       "    </tr>\n",
       "  </tbody>\n",
       "</table>\n",
       "</div>"
      ],
      "text/plain": [
       "                Age  Billing Amount   Room Number\n",
       "count  55500.000000    55500.000000  55500.000000\n",
       "mean      51.539459    25539.316097    301.134829\n",
       "std       19.602454    14211.454431    115.243069\n",
       "min       13.000000    -2008.492140    101.000000\n",
       "25%       35.000000    13241.224655    202.000000\n",
       "50%       52.000000    25538.069380    302.000000\n",
       "75%       68.000000    37820.508432    401.000000\n",
       "max       89.000000    52764.276740    500.000000"
      ]
     },
     "execution_count": 17,
     "metadata": {},
     "output_type": "execute_result"
    }
   ],
   "source": [
    "df.describe()"
   ]
  },
  {
   "cell_type": "code",
   "execution_count": null,
   "id": "52847a1b-7452-4cfa-90d5-24f2fe9f9966",
   "metadata": {},
   "outputs": [],
   "source": [
    "##1. **What is the distribution of patients by gender in the dataset?**"
   ]
  },
  {
   "cell_type": "code",
   "execution_count": 19,
   "id": "58fc2139-f4a4-4a6d-9496-b44f604acc15",
   "metadata": {},
   "outputs": [
    {
     "data": {
      "text/plain": [
       "Gender\n",
       "Male      27774\n",
       "Female    27726\n",
       "Name: count, dtype: int64"
      ]
     },
     "execution_count": 19,
     "metadata": {},
     "output_type": "execute_result"
    }
   ],
   "source": [
    "df[\"Gender\"].value_counts()"
   ]
  },
  {
   "cell_type": "code",
   "execution_count": null,
   "id": "46d87799-dfd4-4d90-8f74-a10f51783265",
   "metadata": {},
   "outputs": [],
   "source": [
    "##2. **Which medical condition is the most common among patients?**"
   ]
  },
  {
   "cell_type": "code",
   "execution_count": 25,
   "id": "5c5ab49c-ef1d-4246-a9ab-8df911ddd190",
   "metadata": {},
   "outputs": [
    {
     "data": {
      "text/plain": [
       "'Arthritis'"
      ]
     },
     "execution_count": 25,
     "metadata": {},
     "output_type": "execute_result"
    }
   ],
   "source": [
    "df['Medical Condition'].value_counts().idxmax()"
   ]
  },
  {
   "cell_type": "code",
   "execution_count": 27,
   "id": "e57187a5-6384-461a-886f-dd3c494b7ff8",
   "metadata": {},
   "outputs": [],
   "source": [
    "##3. **How does the average billing amount vary across different insurance providers?**"
   ]
  },
  {
   "cell_type": "code",
   "execution_count": 45,
   "id": "55850356-c7ce-435b-bb1e-ede3d9197096",
   "metadata": {},
   "outputs": [
    {
     "data": {
      "text/html": [
       "<div>\n",
       "<style scoped>\n",
       "    .dataframe tbody tr th:only-of-type {\n",
       "        vertical-align: middle;\n",
       "    }\n",
       "\n",
       "    .dataframe tbody tr th {\n",
       "        vertical-align: top;\n",
       "    }\n",
       "\n",
       "    .dataframe thead th {\n",
       "        text-align: right;\n",
       "    }\n",
       "</style>\n",
       "<table border=\"1\" class=\"dataframe\">\n",
       "  <thead>\n",
       "    <tr style=\"text-align: right;\">\n",
       "      <th></th>\n",
       "      <th>Insurance Provider</th>\n",
       "      <th>Billing Amount</th>\n",
       "    </tr>\n",
       "  </thead>\n",
       "  <tbody>\n",
       "    <tr>\n",
       "      <th>0</th>\n",
       "      <td>Aetna</td>\n",
       "      <td>25553.294506</td>\n",
       "    </tr>\n",
       "    <tr>\n",
       "      <th>1</th>\n",
       "      <td>Blue Cross</td>\n",
       "      <td>25613.011503</td>\n",
       "    </tr>\n",
       "    <tr>\n",
       "      <th>2</th>\n",
       "      <td>Cigna</td>\n",
       "      <td>25525.766314</td>\n",
       "    </tr>\n",
       "    <tr>\n",
       "      <th>3</th>\n",
       "      <td>Medicare</td>\n",
       "      <td>25615.990508</td>\n",
       "    </tr>\n",
       "    <tr>\n",
       "      <th>4</th>\n",
       "      <td>UnitedHealthcare</td>\n",
       "      <td>25389.172390</td>\n",
       "    </tr>\n",
       "  </tbody>\n",
       "</table>\n",
       "</div>"
      ],
      "text/plain": [
       "  Insurance Provider  Billing Amount\n",
       "0              Aetna    25553.294506\n",
       "1         Blue Cross    25613.011503\n",
       "2              Cigna    25525.766314\n",
       "3           Medicare    25615.990508\n",
       "4   UnitedHealthcare    25389.172390"
      ]
     },
     "execution_count": 45,
     "metadata": {},
     "output_type": "execute_result"
    }
   ],
   "source": [
    "insurance_billing_inxe_diff = df.groupby('Insurance Provider')[\"Billing Amount\"].mean().reset_index()\n",
    "insurance_billing_inxe_diff"
   ]
  },
  {
   "cell_type": "code",
   "execution_count": 47,
   "id": "a5e63903-b581-4ecc-9c6d-7aea55bcbe7f",
   "metadata": {},
   "outputs": [],
   "source": [
    "##4. **Which admission type (Urgent, Emergency, Elective) is most frequently observed?**  "
   ]
  },
  {
   "cell_type": "code",
   "execution_count": 53,
   "id": "810a6571-aa00-4185-9b19-27189ae6a784",
   "metadata": {},
   "outputs": [
    {
     "data": {
      "text/plain": [
       "'Elective'"
      ]
     },
     "execution_count": 53,
     "metadata": {},
     "output_type": "execute_result"
    }
   ],
   "source": [
    "df['Admission Type'].value_counts().idxmax()"
   ]
  },
  {
   "cell_type": "code",
   "execution_count": null,
   "id": "1a773658-0549-48ef-b39c-1989fc93d19b",
   "metadata": {},
   "outputs": [],
   "source": [
    "##5. **What is the average length of hospital stay (discharge date - admission date) for each medical condition?**  "
   ]
  },
  {
   "cell_type": "code",
   "execution_count": 61,
   "id": "bc5022fa-6eec-453d-bbed-8e460c4f7a8b",
   "metadata": {},
   "outputs": [],
   "source": [
    "df['Date of Admission'] = pd.to_datetime(df['Date of Admission'])"
   ]
  },
  {
   "cell_type": "code",
   "execution_count": 63,
   "id": "c013b150-fab0-488b-b703-a7229541da2b",
   "metadata": {},
   "outputs": [],
   "source": [
    "df['Discharge Date'] = pd.to_datetime(df['Discharge Date'])"
   ]
  },
  {
   "cell_type": "code",
   "execution_count": 65,
   "id": "b4f10bab-66e4-4e50-8bbf-69c526008c7c",
   "metadata": {},
   "outputs": [],
   "source": [
    "df[\"Duration_days\"] = (df['Discharge Date'] - df['Date of Admission']).dt.days"
   ]
  },
  {
   "cell_type": "code",
   "execution_count": 72,
   "id": "56d76384-efd4-482f-9b9a-cf587bf4ae52",
   "metadata": {},
   "outputs": [
    {
     "data": {
      "text/html": [
       "<div>\n",
       "<style scoped>\n",
       "    .dataframe tbody tr th:only-of-type {\n",
       "        vertical-align: middle;\n",
       "    }\n",
       "\n",
       "    .dataframe tbody tr th {\n",
       "        vertical-align: top;\n",
       "    }\n",
       "\n",
       "    .dataframe thead th {\n",
       "        text-align: right;\n",
       "    }\n",
       "</style>\n",
       "<table border=\"1\" class=\"dataframe\">\n",
       "  <thead>\n",
       "    <tr style=\"text-align: right;\">\n",
       "      <th></th>\n",
       "      <th>Medical Condition</th>\n",
       "      <th>Duration_days</th>\n",
       "    </tr>\n",
       "  </thead>\n",
       "  <tbody>\n",
       "    <tr>\n",
       "      <th>0</th>\n",
       "      <td>Arthritis</td>\n",
       "      <td>15.517404</td>\n",
       "    </tr>\n",
       "    <tr>\n",
       "      <th>1</th>\n",
       "      <td>Asthma</td>\n",
       "      <td>15.696570</td>\n",
       "    </tr>\n",
       "    <tr>\n",
       "      <th>2</th>\n",
       "      <td>Cancer</td>\n",
       "      <td>15.495827</td>\n",
       "    </tr>\n",
       "    <tr>\n",
       "      <th>3</th>\n",
       "      <td>Diabetes</td>\n",
       "      <td>15.422936</td>\n",
       "    </tr>\n",
       "    <tr>\n",
       "      <th>4</th>\n",
       "      <td>Hypertension</td>\n",
       "      <td>15.458626</td>\n",
       "    </tr>\n",
       "    <tr>\n",
       "      <th>5</th>\n",
       "      <td>Obesity</td>\n",
       "      <td>15.464305</td>\n",
       "    </tr>\n",
       "  </tbody>\n",
       "</table>\n",
       "</div>"
      ],
      "text/plain": [
       "  Medical Condition  Duration_days\n",
       "0         Arthritis      15.517404\n",
       "1            Asthma      15.696570\n",
       "2            Cancer      15.495827\n",
       "3          Diabetes      15.422936\n",
       "4      Hypertension      15.458626\n",
       "5           Obesity      15.464305"
      ]
     },
     "execution_count": 72,
     "metadata": {},
     "output_type": "execute_result"
    }
   ],
   "source": [
    "df.groupby(\"Medical Condition\")[\"Duration_days\"].mean().reset_index()"
   ]
  },
  {
   "cell_type": "code",
   "execution_count": 74,
   "id": "4d499360-7b0b-4c3c-901f-6007fab8d141",
   "metadata": {},
   "outputs": [],
   "source": [
    "##6. **Which blood type is most prevalent among patients with cancer?** "
   ]
  },
  {
   "cell_type": "code",
   "execution_count": 80,
   "id": "3ad50a1c-2a7b-46df-9fd7-9730b8a50ef0",
   "metadata": {},
   "outputs": [
    {
     "data": {
      "text/plain": [
       "'AB-'"
      ]
     },
     "execution_count": 80,
     "metadata": {},
     "output_type": "execute_result"
    }
   ],
   "source": [
    "cancer_patients_blood_group = df[df[\"Medical Condition\"] == \"Cancer\"].groupby(\"Blood Type\")[\"Name\"].count().idxmax()\n",
    "cancer_patients_blood_group"
   ]
  },
  {
   "cell_type": "code",
   "execution_count": null,
   "id": "b0d98bbd-e238-4a12-a434-51622b7f14e4",
   "metadata": {},
   "outputs": [],
   "source": [
    "##**How does the billing amount correlate with the duration of hospital stay?** "
   ]
  },
  {
   "cell_type": "code",
   "execution_count": 84,
   "id": "cfb330eb-0319-40ef-a24b-c319b9607e44",
   "metadata": {},
   "outputs": [
    {
     "data": {
      "text/plain": [
       "-0.005601669976154806"
      ]
     },
     "execution_count": 84,
     "metadata": {},
     "output_type": "execute_result"
    }
   ],
   "source": [
    "df['Billing Amount'].corr(df['Duration_days'])"
   ]
  },
  {
   "cell_type": "code",
   "execution_count": 86,
   "id": "3528c366-b710-412f-8a65-a6db9ee317e8",
   "metadata": {},
   "outputs": [
    {
     "data": {
      "text/plain": [
       "\"I'll conduct more analysis\""
      ]
     },
     "execution_count": 86,
     "metadata": {},
     "output_type": "execute_result"
    }
   ],
   "source": [
    "\"\"\"I'll conduct more analysis\"\"\""
   ]
  },
  {
   "cell_type": "code",
   "execution_count": 88,
   "id": "45f84d68-ec5c-4764-a733-fa41e35dae72",
   "metadata": {},
   "outputs": [],
   "source": [
    "##**Which doctors have the highest number of patients under their care?**"
   ]
  },
  {
   "cell_type": "code",
   "execution_count": 96,
   "id": "036e9377-4538-4e1b-84f5-9eb75c2adb91",
   "metadata": {},
   "outputs": [
    {
     "data": {
      "text/plain": [
       "Doctor\n",
       "Michael Smith        27\n",
       "Robert Smith         22\n",
       "John Smith           22\n",
       "Michael Johnson      20\n",
       "James Smith          20\n",
       "David Smith          19\n",
       "Robert Johnson       19\n",
       "Michael Williams     18\n",
       "Christopher Smith    17\n",
       "John Johnson         17\n",
       "Matthew Smith        17\n",
       "Michael Brown        16\n",
       "Jennifer Johnson     15\n",
       "Christopher Brown    15\n",
       "William Johnson      15\n",
       "David Johnson        15\n",
       "Elizabeth Smith      15\n",
       "Daniel Smith         15\n",
       "Anthony Smith        14\n",
       "Lisa Smith           14\n",
       "Name: Name, dtype: int64"
      ]
     },
     "execution_count": 96,
     "metadata": {},
     "output_type": "execute_result"
    }
   ],
   "source": [
    "df.groupby(\"Doctor\")[\"Name\"].count().sort_values(ascending = False).head(20)"
   ]
  },
  {
   "cell_type": "code",
   "execution_count": null,
   "id": "82287f1c-5b95-45ab-9e4d-031bcc0004df",
   "metadata": {},
   "outputs": [],
   "source": [
    "##9. **What is the most prescribed medication for patients with hypertension?**"
   ]
  },
  {
   "cell_type": "code",
   "execution_count": 104,
   "id": "91a940fd-ca4e-4e50-9ab7-824007bcc704",
   "metadata": {},
   "outputs": [
    {
     "data": {
      "text/plain": [
       "'Ibuprofen'"
      ]
     },
     "execution_count": 104,
     "metadata": {},
     "output_type": "execute_result"
    }
   ],
   "source": [
    "df[df['Medical Condition'] == 'Hypertension'].groupby(\"Medication\")[\"Name\"].count().idxmax()"
   ]
  },
  {
   "cell_type": "code",
   "execution_count": null,
   "id": "bdd4a353-f354-48f3-838c-ce205f4c8ea8",
   "metadata": {},
   "outputs": [],
   "source": [
    "##10. **How do test results (Normal, Abnormal, Inconclusive) vary across different medical conditions?** "
   ]
  },
  {
   "cell_type": "code",
   "execution_count": 116,
   "id": "70128b2b-5003-436c-bbe9-c6251235d3fd",
   "metadata": {},
   "outputs": [
    {
     "data": {
      "text/html": [
       "<div>\n",
       "<style scoped>\n",
       "    .dataframe tbody tr th:only-of-type {\n",
       "        vertical-align: middle;\n",
       "    }\n",
       "\n",
       "    .dataframe tbody tr th {\n",
       "        vertical-align: top;\n",
       "    }\n",
       "\n",
       "    .dataframe thead th {\n",
       "        text-align: right;\n",
       "    }\n",
       "</style>\n",
       "<table border=\"1\" class=\"dataframe\">\n",
       "  <thead>\n",
       "    <tr style=\"text-align: right;\">\n",
       "      <th>Test Results</th>\n",
       "      <th>Abnormal</th>\n",
       "      <th>Inconclusive</th>\n",
       "      <th>Normal</th>\n",
       "    </tr>\n",
       "    <tr>\n",
       "      <th>Medical Condition</th>\n",
       "      <th></th>\n",
       "      <th></th>\n",
       "      <th></th>\n",
       "    </tr>\n",
       "  </thead>\n",
       "  <tbody>\n",
       "    <tr>\n",
       "      <th>Arthritis</th>\n",
       "      <td>3188</td>\n",
       "      <td>3088</td>\n",
       "      <td>3032</td>\n",
       "    </tr>\n",
       "    <tr>\n",
       "      <th>Asthma</th>\n",
       "      <td>3009</td>\n",
       "      <td>3029</td>\n",
       "      <td>3147</td>\n",
       "    </tr>\n",
       "    <tr>\n",
       "      <th>Cancer</th>\n",
       "      <td>3118</td>\n",
       "      <td>3060</td>\n",
       "      <td>3049</td>\n",
       "    </tr>\n",
       "    <tr>\n",
       "      <th>Diabetes</th>\n",
       "      <td>3168</td>\n",
       "      <td>3046</td>\n",
       "      <td>3090</td>\n",
       "    </tr>\n",
       "    <tr>\n",
       "      <th>Hypertension</th>\n",
       "      <td>3012</td>\n",
       "      <td>3091</td>\n",
       "      <td>3142</td>\n",
       "    </tr>\n",
       "    <tr>\n",
       "      <th>Obesity</th>\n",
       "      <td>3132</td>\n",
       "      <td>3042</td>\n",
       "      <td>3057</td>\n",
       "    </tr>\n",
       "  </tbody>\n",
       "</table>\n",
       "</div>"
      ],
      "text/plain": [
       "Test Results       Abnormal  Inconclusive  Normal\n",
       "Medical Condition                                \n",
       "Arthritis              3188          3088    3032\n",
       "Asthma                 3009          3029    3147\n",
       "Cancer                 3118          3060    3049\n",
       "Diabetes               3168          3046    3090\n",
       "Hypertension           3012          3091    3142\n",
       "Obesity                3132          3042    3057"
      ]
     },
     "execution_count": 116,
     "metadata": {},
     "output_type": "execute_result"
    }
   ],
   "source": [
    "test_results_by_condition = df.groupby(['Medical Condition', 'Test Results']).size().unstack(fill_value=0)\n",
    "test_results_by_condition"
   ]
  },
  {
   "cell_type": "code",
   "execution_count": null,
   "id": "80c128b3-244d-4e9f-b159-66ca54d98a15",
   "metadata": {},
   "outputs": [],
   "source": [
    "##11. **Which hospitals have the highest average billing amounts?**"
   ]
  },
  {
   "cell_type": "code",
   "execution_count": 126,
   "id": "f3ca839b-78c1-4c5f-b487-c05cda9b54b2",
   "metadata": {},
   "outputs": [
    {
     "data": {
      "text/plain": [
       "Hospital\n",
       "Hernandez-Morton                  52373.03237\n",
       "Walker-Garcia                     52170.03685\n",
       "Ruiz-Anthony                      52154.23772\n",
       "George-Gonzalez                   52102.24089\n",
       "Rocha-Carter                      52092.66990\n",
       "Briggs Walker Martinez, and       52024.72644\n",
       "and Small Stephens Harrington,    51975.96814\n",
       "Clark-Espinoza                    51848.20160\n",
       "Pierce and Miller James,          51722.12274\n",
       "Stephens Ltd                      51714.30087\n",
       "Lester-Park                       51661.01203\n",
       "Stein-Watts                       51634.09984\n",
       "Thomas, Clark and Keith           51633.85843\n",
       "Baker, Weber Patton and           51587.93682\n",
       "Bowman-Jimenez                    51567.27767\n",
       "Perez-Wagner                      51531.96456\n",
       "Brewer-Washington                 51415.25787\n",
       "Cabrera-Baker                     51350.51281\n",
       "Santiago and Russo, Wood          51336.22121\n",
       "Group Glover                      51316.62126\n",
       "Name: Billing Amount, dtype: float64"
      ]
     },
     "execution_count": 126,
     "metadata": {},
     "output_type": "execute_result"
    }
   ],
   "source": [
    "df.groupby(\"Hospital\")['Billing Amount'].mean().sort_values(ascending = False).head(20)"
   ]
  },
  {
   "cell_type": "code",
   "execution_count": 128,
   "id": "b9d71dee-b034-4c81-96c5-84bdde3126d4",
   "metadata": {},
   "outputs": [],
   "source": [
    "##12. **What is the age distribution of patients with diabetes?**  "
   ]
  },
  {
   "cell_type": "code",
   "execution_count": 140,
   "id": "514f559f-cd21-4659-bc72-04fa39a8dfa1",
   "metadata": {},
   "outputs": [
    {
     "data": {
      "text/html": [
       "<div>\n",
       "<style scoped>\n",
       "    .dataframe tbody tr th:only-of-type {\n",
       "        vertical-align: middle;\n",
       "    }\n",
       "\n",
       "    .dataframe tbody tr th {\n",
       "        vertical-align: top;\n",
       "    }\n",
       "\n",
       "    .dataframe thead th {\n",
       "        text-align: right;\n",
       "    }\n",
       "</style>\n",
       "<table border=\"1\" class=\"dataframe\">\n",
       "  <thead>\n",
       "    <tr style=\"text-align: right;\">\n",
       "      <th></th>\n",
       "      <th>Age</th>\n",
       "      <th>Count_of_patients</th>\n",
       "    </tr>\n",
       "  </thead>\n",
       "  <tbody>\n",
       "    <tr>\n",
       "      <th>0</th>\n",
       "      <td>14</td>\n",
       "      <td>2</td>\n",
       "    </tr>\n",
       "    <tr>\n",
       "      <th>1</th>\n",
       "      <td>15</td>\n",
       "      <td>6</td>\n",
       "    </tr>\n",
       "    <tr>\n",
       "      <th>2</th>\n",
       "      <td>16</td>\n",
       "      <td>4</td>\n",
       "    </tr>\n",
       "    <tr>\n",
       "      <th>3</th>\n",
       "      <td>17</td>\n",
       "      <td>4</td>\n",
       "    </tr>\n",
       "    <tr>\n",
       "      <th>4</th>\n",
       "      <td>18</td>\n",
       "      <td>124</td>\n",
       "    </tr>\n",
       "    <tr>\n",
       "      <th>...</th>\n",
       "      <td>...</td>\n",
       "      <td>...</td>\n",
       "    </tr>\n",
       "    <tr>\n",
       "      <th>71</th>\n",
       "      <td>85</td>\n",
       "      <td>110</td>\n",
       "    </tr>\n",
       "    <tr>\n",
       "      <th>72</th>\n",
       "      <td>86</td>\n",
       "      <td>5</td>\n",
       "    </tr>\n",
       "    <tr>\n",
       "      <th>73</th>\n",
       "      <td>87</td>\n",
       "      <td>10</td>\n",
       "    </tr>\n",
       "    <tr>\n",
       "      <th>74</th>\n",
       "      <td>88</td>\n",
       "      <td>4</td>\n",
       "    </tr>\n",
       "    <tr>\n",
       "      <th>75</th>\n",
       "      <td>89</td>\n",
       "      <td>1</td>\n",
       "    </tr>\n",
       "  </tbody>\n",
       "</table>\n",
       "<p>76 rows × 2 columns</p>\n",
       "</div>"
      ],
      "text/plain": [
       "    Age  Count_of_patients\n",
       "0    14                  2\n",
       "1    15                  6\n",
       "2    16                  4\n",
       "3    17                  4\n",
       "4    18                124\n",
       "..  ...                ...\n",
       "71   85                110\n",
       "72   86                  5\n",
       "73   87                 10\n",
       "74   88                  4\n",
       "75   89                  1\n",
       "\n",
       "[76 rows x 2 columns]"
      ]
     },
     "execution_count": 140,
     "metadata": {},
     "output_type": "execute_result"
    }
   ],
   "source": [
    "df[df[\"Medical Condition\"] == \"Diabetes\"].groupby(\"Age\")[\"Name\"].count().reset_index(name = \"Count_of_patients\")"
   ]
  },
  {
   "cell_type": "code",
   "execution_count": 142,
   "id": "abf6280a-cce3-49ab-8b29-cc27c82a466b",
   "metadata": {},
   "outputs": [],
   "source": [
    "##14. **Which insurance provider covers the highest number of patients?**  "
   ]
  },
  {
   "cell_type": "code",
   "execution_count": 148,
   "id": "ab76d5cc-a564-401b-be69-65d447528969",
   "metadata": {},
   "outputs": [
    {
     "data": {
      "text/plain": [
       "'Cigna'"
      ]
     },
     "execution_count": 148,
     "metadata": {},
     "output_type": "execute_result"
    }
   ],
   "source": [
    "df['Insurance Provider'].value_counts().idxmax()"
   ]
  },
  {
   "cell_type": "code",
   "execution_count": null,
   "id": "1b76c5ea-b889-43c3-aa18-290d79b92378",
   "metadata": {},
   "outputs": [],
   "source": [
    "##15. **How does the billing amount differ between patients with normal and abnormal test results?**  "
   ]
  },
  {
   "cell_type": "code",
   "execution_count": 156,
   "id": "d7b7945c-bf64-4f1e-96cf-511c2c9fb648",
   "metadata": {},
   "outputs": [],
   "source": [
    "billing_on_test_result = df.groupby(\"Test Results\")[\"Billing Amount\"].mean()"
   ]
  },
  {
   "cell_type": "code",
   "execution_count": 162,
   "id": "df71ff18-523f-4be4-b2b0-3fd84199fcae",
   "metadata": {},
   "outputs": [
    {
     "data": {
      "text/html": [
       "<div>\n",
       "<style scoped>\n",
       "    .dataframe tbody tr th:only-of-type {\n",
       "        vertical-align: middle;\n",
       "    }\n",
       "\n",
       "    .dataframe tbody tr th {\n",
       "        vertical-align: top;\n",
       "    }\n",
       "\n",
       "    .dataframe thead th {\n",
       "        text-align: right;\n",
       "    }\n",
       "</style>\n",
       "<table border=\"1\" class=\"dataframe\">\n",
       "  <thead>\n",
       "    <tr style=\"text-align: right;\">\n",
       "      <th></th>\n",
       "      <th>Test Results</th>\n",
       "      <th>Billing Amount</th>\n",
       "    </tr>\n",
       "  </thead>\n",
       "  <tbody>\n",
       "    <tr>\n",
       "      <th>0</th>\n",
       "      <td>Abnormal</td>\n",
       "      <td>25538.353552</td>\n",
       "    </tr>\n",
       "    <tr>\n",
       "      <th>1</th>\n",
       "      <td>Normal</td>\n",
       "      <td>25456.647191</td>\n",
       "    </tr>\n",
       "  </tbody>\n",
       "</table>\n",
       "</div>"
      ],
      "text/plain": [
       "  Test Results  Billing Amount\n",
       "0     Abnormal    25538.353552\n",
       "1       Normal    25456.647191"
      ]
     },
     "execution_count": 162,
     "metadata": {},
     "output_type": "execute_result"
    }
   ],
   "source": [
    "billing_on_test_result[['Abnormal', 'Normal']].reset_index()"
   ]
  },
  {
   "cell_type": "code",
   "execution_count": 164,
   "id": "740343bb-50b3-4a68-95d2-9993a82eafae",
   "metadata": {},
   "outputs": [],
   "source": [
    "##16. **What is the most common room number assigned to patients?** "
   ]
  },
  {
   "cell_type": "code",
   "execution_count": 180,
   "id": "a86e7988-4d69-4f42-86f0-b535c3d22348",
   "metadata": {},
   "outputs": [],
   "source": [
    "rooms_assigned  = df['Room Number'].value_counts().reset_index(name =\"No of times Assigned\").sort_values(by = \"No of times Assigned\")"
   ]
  },
  {
   "cell_type": "code",
   "execution_count": 184,
   "id": "1f682d37-5ad8-4c92-a2bf-d447f1df0271",
   "metadata": {},
   "outputs": [
    {
     "data": {
      "text/plain": [
       "Room Number             398\n",
       "No of times Assigned    109\n",
       "Name: 399, dtype: int64"
      ]
     },
     "execution_count": 184,
     "metadata": {},
     "output_type": "execute_result"
    }
   ],
   "source": [
    "rooms_assigned.iloc[0]"
   ]
  },
  {
   "cell_type": "code",
   "execution_count": 186,
   "id": "ae18b504-baa0-4f68-8707-cd7f519daa8e",
   "metadata": {},
   "outputs": [],
   "source": [
    "##17. **Which medical condition has the highest variability in billing amounts?** "
   ]
  },
  {
   "cell_type": "code",
   "execution_count": 192,
   "id": "5197550e-be3d-4d88-807c-339dc87efbab",
   "metadata": {},
   "outputs": [
    {
     "data": {
      "text/plain": [
       "'Hypertension'"
      ]
     },
     "execution_count": 192,
     "metadata": {},
     "output_type": "execute_result"
    }
   ],
   "source": [
    "df.groupby('Medical Condition')['Billing Amount'].std().sort_values(ascending=False).idxmax()"
   ]
  },
  {
   "cell_type": "code",
   "execution_count": null,
   "id": "bea57d22-79ed-4be9-b983-7773c4936a4c",
   "metadata": {},
   "outputs": [],
   "source": [
    "##18. **How does the distribution of medical conditions differ between male and female patients?**  "
   ]
  },
  {
   "cell_type": "code",
   "execution_count": 216,
   "id": "2403e139-680f-4eae-bc9b-6bbf4fa3eee3",
   "metadata": {},
   "outputs": [
    {
     "data": {
      "text/plain": [
       "Gender\n",
       "Male      27774\n",
       "Female    27726\n",
       "Name: count, dtype: int64"
      ]
     },
     "execution_count": 216,
     "metadata": {},
     "output_type": "execute_result"
    }
   ],
   "source": [
    "df['Gender'].value_counts()"
   ]
  },
  {
   "cell_type": "code",
   "execution_count": 218,
   "id": "ab1aab52-71a0-427d-984e-b21c2189f2e8",
   "metadata": {},
   "outputs": [
    {
     "data": {
      "text/html": [
       "<div>\n",
       "<style scoped>\n",
       "    .dataframe tbody tr th:only-of-type {\n",
       "        vertical-align: middle;\n",
       "    }\n",
       "\n",
       "    .dataframe tbody tr th {\n",
       "        vertical-align: top;\n",
       "    }\n",
       "\n",
       "    .dataframe thead th {\n",
       "        text-align: right;\n",
       "    }\n",
       "</style>\n",
       "<table border=\"1\" class=\"dataframe\">\n",
       "  <thead>\n",
       "    <tr style=\"text-align: right;\">\n",
       "      <th>Medical Condition</th>\n",
       "      <th>Arthritis</th>\n",
       "      <th>Asthma</th>\n",
       "      <th>Cancer</th>\n",
       "      <th>Diabetes</th>\n",
       "      <th>Hypertension</th>\n",
       "      <th>Obesity</th>\n",
       "    </tr>\n",
       "    <tr>\n",
       "      <th>Gender</th>\n",
       "      <th></th>\n",
       "      <th></th>\n",
       "      <th></th>\n",
       "      <th></th>\n",
       "      <th></th>\n",
       "      <th></th>\n",
       "    </tr>\n",
       "  </thead>\n",
       "  <tbody>\n",
       "    <tr>\n",
       "      <th>Female</th>\n",
       "      <td>4686</td>\n",
       "      <td>4553</td>\n",
       "      <td>4602</td>\n",
       "      <td>4651</td>\n",
       "      <td>4612</td>\n",
       "      <td>4622</td>\n",
       "    </tr>\n",
       "    <tr>\n",
       "      <th>Male</th>\n",
       "      <td>4622</td>\n",
       "      <td>4632</td>\n",
       "      <td>4625</td>\n",
       "      <td>4653</td>\n",
       "      <td>4633</td>\n",
       "      <td>4609</td>\n",
       "    </tr>\n",
       "  </tbody>\n",
       "</table>\n",
       "</div>"
      ],
      "text/plain": [
       "Medical Condition  Arthritis  Asthma  Cancer  Diabetes  Hypertension  Obesity\n",
       "Gender                                                                       \n",
       "Female                  4686    4553    4602      4651          4612     4622\n",
       "Male                    4622    4632    4625      4653          4633     4609"
      ]
     },
     "execution_count": 218,
     "metadata": {},
     "output_type": "execute_result"
    }
   ],
   "source": [
    "condition_by_gender = pd.crosstab(df['Gender'], df['Medical Condition'])\n",
    "condition_by_gender"
   ]
  },
  {
   "cell_type": "code",
   "execution_count": 222,
   "id": "7f3bc95f-cf08-4cb3-8308-22815ff808bf",
   "metadata": {},
   "outputs": [
    {
     "data": {
      "text/html": [
       "<div>\n",
       "<style scoped>\n",
       "    .dataframe tbody tr th:only-of-type {\n",
       "        vertical-align: middle;\n",
       "    }\n",
       "\n",
       "    .dataframe tbody tr th {\n",
       "        vertical-align: top;\n",
       "    }\n",
       "\n",
       "    .dataframe thead th {\n",
       "        text-align: right;\n",
       "    }\n",
       "</style>\n",
       "<table border=\"1\" class=\"dataframe\">\n",
       "  <thead>\n",
       "    <tr style=\"text-align: right;\">\n",
       "      <th>Medical Condition</th>\n",
       "      <th>Arthritis</th>\n",
       "      <th>Asthma</th>\n",
       "      <th>Cancer</th>\n",
       "      <th>Diabetes</th>\n",
       "      <th>Hypertension</th>\n",
       "      <th>Obesity</th>\n",
       "    </tr>\n",
       "    <tr>\n",
       "      <th>Gender</th>\n",
       "      <th></th>\n",
       "      <th></th>\n",
       "      <th></th>\n",
       "      <th></th>\n",
       "      <th></th>\n",
       "      <th></th>\n",
       "    </tr>\n",
       "  </thead>\n",
       "  <tbody>\n",
       "    <tr>\n",
       "      <th>Female</th>\n",
       "      <td>16.90</td>\n",
       "      <td>16.42</td>\n",
       "      <td>16.60</td>\n",
       "      <td>16.77</td>\n",
       "      <td>16.63</td>\n",
       "      <td>16.67</td>\n",
       "    </tr>\n",
       "    <tr>\n",
       "      <th>Male</th>\n",
       "      <td>16.64</td>\n",
       "      <td>16.68</td>\n",
       "      <td>16.65</td>\n",
       "      <td>16.75</td>\n",
       "      <td>16.68</td>\n",
       "      <td>16.59</td>\n",
       "    </tr>\n",
       "  </tbody>\n",
       "</table>\n",
       "</div>"
      ],
      "text/plain": [
       "Medical Condition  Arthritis  Asthma  Cancer  Diabetes  Hypertension  Obesity\n",
       "Gender                                                                       \n",
       "Female                 16.90   16.42   16.60     16.77         16.63    16.67\n",
       "Male                   16.64   16.68   16.65     16.75         16.68    16.59"
      ]
     },
     "execution_count": 222,
     "metadata": {},
     "output_type": "execute_result"
    }
   ],
   "source": [
    "normalized = pd.crosstab(df['Gender'], df['Medical Condition'], normalize='index') * 100\n",
    "normalized.round(2)"
   ]
  },
  {
   "cell_type": "code",
   "execution_count": 224,
   "id": "64036e5c-f584-4c9f-95a4-5007f5f2ef30",
   "metadata": {},
   "outputs": [
    {
     "data": {
      "image/png": "[encoded data removed]",
      "text/plain": [
       "<Figure size 1000x600 with 1 Axes>"
      ]
     },
     "metadata": {},
     "output_type": "display_data"
    }
   ],
   "source": [
    "condition_by_gender.plot(kind='bar', figsize=(10, 6))\n",
    "plt.title('Medical Condition Counts by Gender')\n",
    "plt.ylabel('Number of Patients')\n",
    "plt.xticks(rotation=0)\n",
    "plt.show()"
   ]
  },
  {
   "cell_type": "code",
   "execution_count": null,
   "id": "0d4370a7-7041-4f0f-a795-e29238d65bd0",
   "metadata": {},
   "outputs": [],
   "source": []
  },
  {
   "cell_type": "code",
   "execution_count": null,
   "id": "12965306-f5e0-46fa-bfdc-5842cfb6feda",
   "metadata": {},
   "outputs": [],
   "source": [
    "##19. **Are there any outliers in the billing amount column?** "
   ]
  },
  {
   "cell_type": "code",
   "execution_count": 204,
   "id": "7e64178a-c617-4294-bd7f-450ae4e2354e",
   "metadata": {},
   "outputs": [
    {
     "name": "stdout",
     "output_type": "stream",
     "text": [
      "count    55500.000000\n",
      "mean     25539.316097\n",
      "std      14211.454431\n",
      "min      -2008.492140\n",
      "25%      13241.224655\n",
      "50%      25538.069380\n",
      "75%      37820.508432\n",
      "max      52764.276740\n",
      "Name: Billing Amount, dtype: float64\n"
     ]
    }
   ],
   "source": [
    "print(df['Billing Amount'].describe())"
   ]
  },
  {
   "cell_type": "code",
   "execution_count": 206,
   "id": "f37fbd7d-1359-43b2-97fc-a7995ef14d9e",
   "metadata": {},
   "outputs": [
    {
     "data": {
      "image/png": "[encoded data removed]",
      "text/plain": [
       "<Figure size 800x400 with 1 Axes>"
      ]
     },
     "metadata": {},
     "output_type": "display_data"
    }
   ],
   "source": [
    "plt.figure(figsize=(8, 4))\n",
    "df['Billing Amount'].plot(kind='box', vert=False)\n",
    "plt.title('Box Plot of Billing Amount')\n",
    "plt.show()"
   ]
  },
  {
   "cell_type": "code",
   "execution_count": 208,
   "id": "ca7bc22a-76eb-497c-aa45-45fb20083694",
   "metadata": {},
   "outputs": [
    {
     "data": {
      "image/png": "[encoded data removed]",
      "text/plain": [
       "<Figure size 800x400 with 1 Axes>"
      ]
     },
     "metadata": {},
     "output_type": "display_data"
    }
   ],
   "source": [
    "plt.figure(figsize=(8, 4))\n",
    "df['Billing Amount'].plot(kind='hist', bins=50)\n",
    "plt.title('Distribution of Billing Amount')\n",
    "plt.show()"
   ]
  },
  {
   "cell_type": "code",
   "execution_count": 210,
   "id": "4627eab6-2461-4c30-b6cf-280587c596e1",
   "metadata": {},
   "outputs": [
    {
     "name": "stdout",
     "output_type": "stream",
     "text": [
      "Number of outliers: 0\n",
      "Empty DataFrame\n",
      "Columns: [Name, Billing Amount, Medical Condition]\n",
      "Index: []\n"
     ]
    }
   ],
   "source": [
    "Q1 = df['Billing Amount'].quantile(0.25)\n",
    "Q3 = df['Billing Amount'].quantile(0.75)\n",
    "IQR = Q3 - Q1\n",
    "\n",
    "lower_bound = Q1 - 1.5 * IQR\n",
    "upper_bound = Q3 + 1.5 * IQR\n",
    "\n",
    "outliers = df[(df['Billing Amount'] < lower_bound) | (df['Billing Amount'] > upper_bound)]\n",
    "print(f\"Number of outliers: {len(outliers)}\")\n",
    "print(outliers[['Name', 'Billing Amount', 'Medical Condition']])"
   ]
  },
  {
   "cell_type": "code",
   "execution_count": null,
   "id": "8e4e6d37-a9e3-47ed-86c6-1edbbd89ad7c",
   "metadata": {},
   "outputs": [],
   "source": []
  },
  {
   "cell_type": "code",
   "execution_count": 194,
   "id": "3d510971-a876-43cf-9b55-e3f5ccd60e99",
   "metadata": {},
   "outputs": [],
   "source": [
    "##20. **What is the relationship between age and the likelihood of having a specific medical condition?**  "
   ]
  },
  {
   "cell_type": "code",
   "execution_count": 198,
   "id": "0febcd91-e231-4ec8-9d03-8d22d3b7c300",
   "metadata": {},
   "outputs": [
    {
     "data": {
      "text/plain": [
       "Medical Condition\n",
       "Obesity         51.240277\n",
       "Diabetes        51.554170\n",
       "Cancer          51.558795\n",
       "Arthritis       51.565320\n",
       "Asthma          51.575830\n",
       "Hypertension    51.741915\n",
       "Name: Age, dtype: float64"
      ]
     },
     "execution_count": 198,
     "metadata": {},
     "output_type": "execute_result"
    }
   ],
   "source": [
    "avg_age = df.groupby('Medical Condition')['Age'].mean().sort_values()\n",
    "avg_age"
   ]
  },
  {
   "cell_type": "code",
   "execution_count": 200,
   "id": "3cb993d6-935b-45ea-b37d-2da30c4f8cdd",
   "metadata": {},
   "outputs": [
    {
     "data": {
      "image/png": "[encoded data removed]",
      "text/plain": [
       "<Figure size 1000x600 with 1 Axes>"
      ]
     },
     "metadata": {},
     "output_type": "display_data"
    }
   ],
   "source": [
    "df.boxplot(column='Age', by='Medical Condition', figsize=(10, 6), vert=False)\n",
    "plt.title('Age Distribution by Medical Condition')\n",
    "plt.xlabel('Age')\n",
    "plt.ylabel('Condition')\n",
    "plt.suptitle('')\n",
    "plt.show()"
   ]
  },
  {
   "cell_type": "code",
   "execution_count": 202,
   "id": "70aeedf4-9be7-40f8-826c-5d5dc3cbec12",
   "metadata": {},
   "outputs": [
    {
     "name": "stdout",
     "output_type": "stream",
     "text": [
      "Medical Condition  Arthritis  Asthma  Cancer  Diabetes  Hypertension  Obesity\n",
      "Age Group                                                                    \n",
      "<30                    16.48   16.63   16.92     16.48         16.43    17.07\n",
      "30-40                  17.27   16.71   16.44     16.69         16.62    16.27\n",
      "40-50                  16.81   16.37   16.24     17.24         16.51    16.84\n",
      "50-60                  16.89   15.79   16.80     16.68         16.73    17.11\n",
      "60-70                  16.19   16.76   16.35     17.70         16.42    16.59\n",
      "70-80                  16.95   16.92   16.82     16.29         17.22    15.79\n",
      "80+                    17.05   16.75   16.83     15.91         16.85    16.60\n"
     ]
    }
   ],
   "source": [
    "bins = [0, 30, 40, 50, 60, 70, 80, 100]\n",
    "labels = ['<30', '30-40', '40-50', '50-60', '60-70', '70-80', '80+']\n",
    "df['Age Group'] = pd.cut(df['Age'], bins=bins, labels=labels)\n",
    "condition_by_age = pd.crosstab(df['Age Group'], df['Medical Condition'], normalize='index') * 100\n",
    "print(condition_by_age.round(2))"
   ]
  },
  {
   "cell_type": "code",
   "execution_count": null,
   "id": "2b07e4df-457c-42c4-89a2-1dc802411729",
   "metadata": {},
   "outputs": [],
   "source": []
  }
 ],
 "metadata": {
  "kernelspec": {
   "display_name": "Python 3 (ipykernel)",
   "language": "python",
   "name": "python3"
  },
  "language_info": {
   "codemirror_mode": {
    "name": "ipython",
    "version": 3
   },
   "file_extension": ".py",
   "mimetype": "text/x-python",
   "name": "python",
   "nbconvert_exporter": "python",
   "pygments_lexer": "ipython3",
   "version": "3.12.4"
  }
 },
 "nbformat": 4,
 "nbformat_minor": 5
}
